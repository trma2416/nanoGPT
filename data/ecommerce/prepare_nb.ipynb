{
 "cells": [
  {
   "cell_type": "code",
   "execution_count": 14,
   "id": "00e19cac",
   "metadata": {},
   "outputs": [],
   "source": [
    "import pandas as pd\n",
    "import re\n",
    "import openai\n",
    "import os\n",
    "import time\n",
    "from dotenv import load_dotenv\n",
    "\n"
   ]
  },
  {
   "cell_type": "code",
   "execution_count": 15,
   "id": "44e54059",
   "metadata": {},
   "outputs": [
    {
     "data": {
      "text/plain": [
       "False"
      ]
     },
     "execution_count": 15,
     "metadata": {},
     "output_type": "execute_result"
    }
   ],
   "source": [
    "#dotenv_path = os.path.abspath(os.path.join(os.path.dirname(__file__), '..', '..', '.env'))\n",
    "dotenv_path = \"Users/pc/Documents/CSPB/CSPB 3112/nanoGPT/.env\"\n",
    "load_dotenv(dotenv_path)"
   ]
  },
  {
   "cell_type": "code",
   "execution_count": 16,
   "id": "c92b5f56",
   "metadata": {},
   "outputs": [],
   "source": [
    "#we need to clean our input data\n",
    "def clean_txt(text):\n",
    "    text = str(text).strip() #remove leading and trailing whitespaces\n",
    "    text = re.sub(r'\\s+', ' ', text) #fix any unneccessary whitespace\n",
    "    text = re.sub(r'^\\x00-\\x7F]+', '', text) #remove any characters non-ASCII\n",
    "    return text\n",
    "#used to split our description on each row into the new column titled items\n",
    "def split(text):\n",
    "    txt_lst = text.split(\"-\")\n",
    "    return txt_lst[0]\n",
    "\n",
    "def split2(txt):\n",
    "    txt_lst = txt.split(\"-\")\n",
    "    return txt_lst[1]\n",
    "    \n",
    "#format the data in a conversational format\n",
    "def format_row(row):\n",
    "    return f\"Customer: Tell me about the {row['item']}.\\nAgent: The {row['item']} is {row['description']}.\\n\"\n",
    "\n",
    "#some of our descriptions lack correct sentence structure which is an issue for training\n",
    "client = openai.OpenAI(api_key=os.getenv(\"OPENAI_API_KEY\"))\n",
    "def fix_grammar(txt):\n",
    "    try:\n",
    "        time.sleep(1)\n",
    "        response = client.chat.completions.create(model=\"gpt-3.5-turbo\", \n",
    "                                            messages=[{\"role\": \"system\", \"content\": \"Improve grammar and sentence structure of the following text.\"},\n",
    "                                                      {\"role\": \"user\", \"content\": txt}], \n",
    "                                            temperature=0.2,\n",
    "                                            max_tokens=100)\n",
    "        return response.choices[0].message.content.strip()\n",
    "    except Exception as e:\n",
    "        print(f\"Error: {e}\")\n",
    "        return txt\n"
   ]
  },
  {
   "cell_type": "code",
   "execution_count": 17,
   "id": "12e6447d",
   "metadata": {},
   "outputs": [],
   "source": [
    "#read in our data\n",
    "df = pd.read_csv(\"sample-data.csv\")\n",
    "\n",
    "#our item is hidden in our description so we need to extract that and create a new column\n",
    "df[\"item\"] = df[\"description\"].apply(split)\n",
    "df[\"description\"] = df[\"description\"].apply(split2)\n",
    "df.dropna(subset=[\"description\", \"item\"], inplace=True)\n",
    "#clean up our data\n",
    "for col in [\"id\", \"description\", \"item\"]:\n",
    "    df[col] = df[col].apply(clean_txt)\n",
    "    \n",
    "\n",
    "#finally reformat it so it can be written into a text file\n",
    "formatted = df.apply(format_row, axis=1) #apply to row via axis=1"
   ]
  },
  {
   "cell_type": "code",
   "execution_count": 18,
   "id": "564f4e10",
   "metadata": {},
   "outputs": [
    {
     "name": "stdout",
     "output_type": "stream",
     "text": [
      "Completed step 1...\n",
      "Completed step 2...\n",
      "Your text file of training data is ready!\n"
     ]
    }
   ],
   "source": [
    "with open(\"train.txt\", \"w\", encoding = 'utf-8') as f:\n",
    "    f.writelines(formatted)\n",
    "print(\"Completed step 1...\")\n",
    "with open(\"train.txt\", \"r\") as f:\n",
    "    lines = f.readlines()\n",
    "\n",
    "fixed_lines = [fix_grammar(line) for line in lines if line.strip()]\n",
    "print(\"Completed step 2...\")\n",
    "with open(\"new_train.txt\", \"w\", encoding= 'utf-8') as f:\n",
    "    for line in fixed_lines:\n",
    "        f.write(line + \"\\n\")\n",
    "print(\"Your text file of training data is ready!\")\n",
    "        \n",
    "    \n",
    "        "
   ]
  },
  {
   "cell_type": "code",
   "execution_count": null,
   "id": "cd760742",
   "metadata": {},
   "outputs": [],
   "source": []
  }
 ],
 "metadata": {
  "kernelspec": {
   "display_name": "venv",
   "language": "python",
   "name": "python3"
  },
  "language_info": {
   "codemirror_mode": {
    "name": "ipython",
    "version": 3
   },
   "file_extension": ".py",
   "mimetype": "text/x-python",
   "name": "python",
   "nbconvert_exporter": "python",
   "pygments_lexer": "ipython3",
   "version": "3.9.7"
  }
 },
 "nbformat": 4,
 "nbformat_minor": 5
}
